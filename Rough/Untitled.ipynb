{
 "cells": [
  {
   "cell_type": "code",
   "execution_count": null,
   "metadata": {
    "collapsed": true
   },
   "outputs": [],
   "source": []
  },
  {
   "cell_type": "code",
   "execution_count": 1,
   "metadata": {
    "collapsed": true
   },
   "outputs": [],
   "source": [
    "%matplotlib inline\n",
    "%config InlineBackend.figure_format = 'retina'\n",
    "\n",
    "import numpy as np\n",
    "import pandas as pd\n",
    "import matplotlib.pyplot as plt"
   ]
  },
  {
   "cell_type": "code",
   "execution_count": 11,
   "metadata": {},
   "outputs": [],
   "source": [
    "def sigmoid(x):\n",
    "            return (1/(1+(np.exp(-x))))  # Replace 0 with your sigmoid calculation here\n",
    "activation_function = sigmoid"
   ]
  },
  {
   "cell_type": "code",
   "execution_count": 33,
   "metadata": {},
   "outputs": [],
   "source": [
    "features = np.array([[0.5, -0.2, 0.1]])\n",
    "targets = np.array([[0.4]])\n",
    "test_w_i_h = np.array([[0.1, -0.2],\n",
    "                       [0.4, 0.5],\n",
    "                       [-0.3, 0.2]])\n",
    "test_w_h_o = np.array([[0.3],\n",
    "                       [-0.1]])\n",
    "weights_input_to_hidden = test_w_i_h.copy()\n",
    "weights_hidden_to_output = test_w_h_o.copy()\n",
    "input_nodes = 3\n",
    "hidden_nodes = 2\n",
    "output_nodes = 1\n",
    "lr = 0.5"
   ]
  },
  {
   "cell_type": "code",
   "execution_count": 34,
   "metadata": {},
   "outputs": [
    {
     "name": "stdout",
     "output_type": "stream",
     "text": [
      "[ 0.5 -0.2  0.1]\n",
      "[ 0.4]\n",
      "[[ 0.1 -0.2]\n",
      " [ 0.4  0.5]\n",
      " [-0.3  0.2]]\n",
      "[-0.06 -0.18]\n"
     ]
    }
   ],
   "source": [
    "n_records = features.shape[0]\n",
    "delta_weights_i_h = np.zeros(weights_input_to_hidden.shape)\n",
    "delta_weights_h_o = np.zeros(weights_hidden_to_output.shape)\n",
    "for X, y in zip(features, targets):\n",
    "    print(X)\n",
    "    print(y)\n",
    "    print(weights_input_to_hidden)\n",
    "    print(np.dot(X,weights_input_to_hidden))\n",
    "    #### Implement the forward pass here ####\n",
    "    ### Forward pass ###\n",
    "    # TODO: Hidden layer - Replace these values with your calculations.\n",
    "    hidden_inputs = np.dot(X[None,:],weights_input_to_hidden)   # signals into hidden layer\n",
    "    hidden_outputs = activation_function(hidden_inputs) # signals from hidden layer\n",
    "\n",
    "    # TODO: Output layer - Replace these values with your calculations.\n",
    "    final_inputs = np.dot(hidden_outputs,weights_hidden_to_output) #  signals into final output layer\n",
    "    final_outputs = activation_function(final_inputs) # signals from final output layer\n",
    "\n",
    "    #### Implement the backward pass here ####\n",
    "    ### Backward pass ###\n",
    "\n",
    "    # TODO: Output error - Replace this value with your calculations.\n",
    "    error = y - final_outputs # Output layer error is the difference between desired target and actual output.\n",
    "\n",
    "    # TODO: Calculate the backpropagated error term (delta) for the output \n",
    "    output_error_term = error*(final_outputs)*(1-final_outputs)\n",
    "    # TODO: Calculate the hidden layer's contribution to the error\n",
    "    hidden_error = np.dot(weights_hidden_to_output,output_error_term)\n",
    "    # TODO: Calculate the backpropagated error term (delta) for the hidden layer\n",
    "    hidden_error_term = (hidden_outputs)*(1-hidden_outputs)\n",
    "    hidden_error_term = np.dot(hidden_error_term,hidden_error)\n",
    "\n",
    "    # Weight step (input to hidden)\n",
    "    delta_weights_i_h += hidden_error_term*X[:,None]\n",
    "    # Weight step (hidden to output)\n",
    "    delta_weights_h_o += np.dot(output_error_term,hidden_outputs).T\n",
    "\n",
    "# TODO: Update the weights - Replace these values with your calculations.\n",
    "weights_hidden_to_output += (lr*delta_weights_h_o/n_records) # update hidden-to-output weights with gradient descent step\n",
    "weights_input_to_hidden += (lr*delta_weights_i_h/n_records) # update input-to-hidden weights with gradient descent step"
   ]
  },
  {
   "cell_type": "code",
   "execution_count": null,
   "metadata": {
    "collapsed": true
   },
   "outputs": [],
   "source": []
  }
 ],
 "metadata": {
  "kernelspec": {
   "display_name": "Python 3",
   "language": "python",
   "name": "python3"
  },
  "language_info": {
   "codemirror_mode": {
    "name": "ipython",
    "version": 3
   },
   "file_extension": ".py",
   "mimetype": "text/x-python",
   "name": "python",
   "nbconvert_exporter": "python",
   "pygments_lexer": "ipython3",
   "version": "3.6.2"
  }
 },
 "nbformat": 4,
 "nbformat_minor": 2
}
